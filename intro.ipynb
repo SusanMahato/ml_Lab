{
  "nbformat": 4,
  "nbformat_minor": 0,
  "metadata": {
    "colab": {
      "provenance": [],
      "gpuType": "T4",
      "authorship_tag": "ABX9TyM6jqOBljvTMhcs8t0/5nPH",
      "include_colab_link": true
    },
    "kernelspec": {
      "name": "python3",
      "display_name": "Python 3"
    },
    "language_info": {
      "name": "python"
    },
    "accelerator": "GPU"
  },
  "cells": [
    {
      "cell_type": "markdown",
      "metadata": {
        "id": "view-in-github",
        "colab_type": "text"
      },
      "source": [
        "<a href=\"https://colab.research.google.com/github/SusanMahato/ml_Lab/blob/Lab1/intro.ipynb\" target=\"_parent\"><img src=\"https://colab.research.google.com/assets/colab-badge.svg\" alt=\"Open In Colab\"/></a>"
      ]
    },
    {
      "cell_type": "code",
      "execution_count": null,
      "metadata": {
        "colab": {
          "base_uri": "https://localhost:8080/"
        },
        "id": "Ja3nEIFLTPhv",
        "outputId": "076f67a5-b34f-42ee-85a5-aa64a05c55c7"
      },
      "outputs": [
        {
          "output_type": "stream",
          "name": "stdout",
          "text": [
            "Mon May 19 06:59:46 2025       \n",
            "+-----------------------------------------------------------------------------------------+\n",
            "| NVIDIA-SMI 550.54.15              Driver Version: 550.54.15      CUDA Version: 12.4     |\n",
            "|-----------------------------------------+------------------------+----------------------+\n",
            "| GPU  Name                 Persistence-M | Bus-Id          Disp.A | Volatile Uncorr. ECC |\n",
            "| Fan  Temp   Perf          Pwr:Usage/Cap |           Memory-Usage | GPU-Util  Compute M. |\n",
            "|                                         |                        |               MIG M. |\n",
            "|=========================================+========================+======================|\n",
            "|   0  Tesla T4                       Off |   00000000:00:04.0 Off |                    0 |\n",
            "| N/A   37C    P8              9W /   70W |       0MiB /  15360MiB |      0%      Default |\n",
            "|                                         |                        |                  N/A |\n",
            "+-----------------------------------------+------------------------+----------------------+\n",
            "                                                                                         \n",
            "+-----------------------------------------------------------------------------------------+\n",
            "| Processes:                                                                              |\n",
            "|  GPU   GI   CI        PID   Type   Process name                              GPU Memory |\n",
            "|        ID   ID                                                               Usage      |\n",
            "|=========================================================================================|\n",
            "|  No running processes found                                                             |\n",
            "+-----------------------------------------------------------------------------------------+\n"
          ]
        }
      ],
      "source": [
        "!nvidia-smi\n"
      ]
    },
    {
      "cell_type": "markdown",
      "source": [],
      "metadata": {
        "id": "jhy8XNnjXKwT"
      }
    },
    {
      "cell_type": "code",
      "source": [],
      "metadata": {
        "id": "AiCacvEHXLMh"
      },
      "execution_count": null,
      "outputs": []
    },
    {
      "cell_type": "markdown",
      "source": [],
      "metadata": {
        "id": "-kqm-woAXMWL"
      }
    },
    {
      "cell_type": "code",
      "source": [
        "print(\"hello,world!\")"
      ],
      "metadata": {
        "colab": {
          "base_uri": "https://localhost:8080/"
        },
        "id": "DnTvyUVnXMwy",
        "outputId": "bc99c8b5-5588-4c53-ff95-41c7aed0d5f5"
      },
      "execution_count": null,
      "outputs": [
        {
          "output_type": "stream",
          "name": "stdout",
          "text": [
            "hello,world!\n"
          ]
        }
      ]
    },
    {
      "cell_type": "code",
      "source": [
        "print(\"hello world\") # this is a comment\n"
      ],
      "metadata": {
        "colab": {
          "base_uri": "https://localhost:8080/"
        },
        "id": "yy4uYBMzXW5c",
        "outputId": "8678d695-82b6-4e3a-970d-437d68555c2d"
      },
      "execution_count": null,
      "outputs": [
        {
          "output_type": "stream",
          "name": "stdout",
          "text": [
            "hello world\n"
          ]
        }
      ]
    },
    {
      "cell_type": "code",
      "source": [
        "if 5>2:\n",
        "  print(\"5 is greater than 2\")\n"
      ],
      "metadata": {
        "colab": {
          "base_uri": "https://localhost:8080/"
        },
        "id": "-c-dapxGX0Tj",
        "outputId": "7b427169-dd18-4b9d-a1e7-23ff64b5d165"
      },
      "execution_count": null,
      "outputs": [
        {
          "output_type": "stream",
          "name": "stdout",
          "text": [
            "5 is greater than 2\n"
          ]
        }
      ]
    },
    {
      "cell_type": "code",
      "source": [
        "x=8\n",
        "print(x)"
      ],
      "metadata": {
        "colab": {
          "base_uri": "https://localhost:8080/"
        },
        "id": "6WPuWMssZDkB",
        "outputId": "ef8bb9a9-6bb4-4bb3-e587-76316d3f9d81"
      },
      "execution_count": null,
      "outputs": [
        {
          "output_type": "stream",
          "name": "stdout",
          "text": [
            "8\n"
          ]
        }
      ]
    },
    {
      "cell_type": "code",
      "source": [
        "a=\"ram\"\n",
        "print(a)"
      ],
      "metadata": {
        "colab": {
          "base_uri": "https://localhost:8080/"
        },
        "id": "7QrcmNd6Z17j",
        "outputId": "565fb554-21be-4eac-c348-c6609216bc80"
      },
      "execution_count": null,
      "outputs": [
        {
          "output_type": "stream",
          "name": "stdout",
          "text": [
            "ram\n"
          ]
        }
      ]
    },
    {
      "cell_type": "code",
      "source": [
        "a=str(\"kaizen\")\n",
        "print(a)"
      ],
      "metadata": {
        "colab": {
          "base_uri": "https://localhost:8080/"
        },
        "id": "OfgQvkYOaddF",
        "outputId": "4d5e7f2e-3b55-462a-8517-277c0938981c"
      },
      "execution_count": null,
      "outputs": [
        {
          "output_type": "stream",
          "name": "stdout",
          "text": [
            "kaizen\n"
          ]
        }
      ]
    },
    {
      "cell_type": "code",
      "source": [
        "a=\"kaizen\"\n",
        "print(str(a))"
      ],
      "metadata": {
        "colab": {
          "base_uri": "https://localhost:8080/"
        },
        "id": "2r6wQFXmanva",
        "outputId": "a69bfe9b-1418-4473-cd55-05a3c0ec8319"
      },
      "execution_count": null,
      "outputs": [
        {
          "output_type": "stream",
          "name": "stdout",
          "text": [
            "kaizen\n"
          ]
        }
      ]
    },
    {
      "cell_type": "code",
      "source": [
        "x=1#type conversion\n",
        "y=2.3\n",
        "z=1j\n",
        "a= float(x)\n",
        "b= int(y)\n",
        "c=complex(x)\n",
        "d=int(z.real)\n",
        "print(a)\n",
        "print(b)\n",
        "print(c)\n",
        "print(float(a))\n",
        "print(int(b))\n",
        "print(complex(c))\n",
        "print(int(d))"
      ],
      "metadata": {
        "colab": {
          "base_uri": "https://localhost:8080/"
        },
        "id": "8m-T5T6kb0ab",
        "outputId": "ba1ae652-b94b-4732-a531-5456c2a097c3"
      },
      "execution_count": null,
      "outputs": [
        {
          "output_type": "stream",
          "name": "stdout",
          "text": [
            "1.0\n",
            "2\n",
            "(1+0j)\n",
            "1.0\n",
            "2\n",
            "(1+0j)\n",
            "0\n"
          ]
        }
      ]
    },
    {
      "cell_type": "code",
      "source": [
        "x=int(1.5)#type casting\n",
        "y= float(5)\n",
        "z=str(2)\n",
        "z=str(2.8)\n"
      ],
      "metadata": {
        "id": "WXAaYH1UdjW1"
      },
      "execution_count": null,
      "outputs": []
    },
    {
      "cell_type": "code",
      "source": [
        "x=5\n",
        "y=15\n",
        "print(x+y)"
      ],
      "metadata": {
        "colab": {
          "base_uri": "https://localhost:8080/"
        },
        "id": "bueb50Q9fC3t",
        "outputId": "5e26edda-8e95-4700-8153-f161419f2531"
      },
      "execution_count": null,
      "outputs": [
        {
          "output_type": "stream",
          "name": "stdout",
          "text": [
            "20\n"
          ]
        }
      ]
    },
    {
      "cell_type": "code",
      "source": [
        "print(20-5)\n",
        "print(20/5)\n",
        "print(20*5)\n"
      ],
      "metadata": {
        "colab": {
          "base_uri": "https://localhost:8080/"
        },
        "id": "ofRH6_A_fQgi",
        "outputId": "cf74f236-b06c-4446-e897-68d4a55afc2a"
      },
      "execution_count": null,
      "outputs": [
        {
          "output_type": "stream",
          "name": "stdout",
          "text": [
            "15\n",
            "4.0\n",
            "100\n"
          ]
        }
      ]
    },
    {
      "cell_type": "code",
      "source": [
        "studentlist=[\"ram\",\"shyam\",\"hari\"]\n",
        "print(studentlist)"
      ],
      "metadata": {
        "colab": {
          "base_uri": "https://localhost:8080/"
        },
        "id": "jBIG16o7fIed",
        "outputId": "33e60334-9858-4c7e-c4f1-5e80fddf028d"
      },
      "execution_count": null,
      "outputs": [
        {
          "output_type": "stream",
          "name": "stdout",
          "text": [
            "['ram', 'shyam', 'hari']\n"
          ]
        }
      ]
    },
    {
      "cell_type": "code",
      "source": [
        "footaballposition=[\"striker\",\"midfielder\",\"defender\"]#accessing tuples\n",
        "print(footaballposition[1])"
      ],
      "metadata": {
        "colab": {
          "base_uri": "https://localhost:8080/"
        },
        "id": "PVjXuMF5gXde",
        "outputId": "5e1a065b-3714-44b8-c360-6530baaac5fd"
      },
      "execution_count": null,
      "outputs": [
        {
          "output_type": "stream",
          "name": "stdout",
          "text": [
            "midfielder\n"
          ]
        }
      ]
    },
    {
      "cell_type": "code",
      "source": [
        "thisset={\"apple\",\"banana\",\"cherry\"}#set\n",
        "print(thisset)\n"
      ],
      "metadata": {
        "id": "-QkQ74Wmg_Vm",
        "colab": {
          "base_uri": "https://localhost:8080/"
        },
        "outputId": "52d399c7-93fc-4234-bc16-28e58e22d0a6"
      },
      "execution_count": null,
      "outputs": [
        {
          "output_type": "stream",
          "name": "stdout",
          "text": [
            "{'apple', 'cherry', 'banana'}\n"
          ]
        }
      ]
    },
    {
      "cell_type": "code",
      "source": [
        "dict = {\n",
        "    \"brand\":\"ferrari\",\n",
        "    \"model\":\"ferrariroma\",\n",
        "    \"year\":2019\n",
        "}\n",
        "print(dict)"
      ],
      "metadata": {
        "colab": {
          "base_uri": "https://localhost:8080/"
        },
        "id": "GEOR3jD93pF9",
        "outputId": "95f920e9-d22c-4394-b384-d57b0699e68b"
      },
      "execution_count": null,
      "outputs": [
        {
          "output_type": "stream",
          "name": "stdout",
          "text": [
            "{'brand': 'ferrari', 'model': 'ferrariroma', 'year': 2019}\n"
          ]
        }
      ]
    },
    {
      "cell_type": "code",
      "source": [
        "a=30\n",
        "b=5\n",
        "if a>b:\n",
        "  print(\"a is greater than b\")\n",
        "else:\n",
        "  print(\"b is greater than a\")"
      ],
      "metadata": {
        "colab": {
          "base_uri": "https://localhost:8080/"
        },
        "id": "JxtIZthq6Oh2",
        "outputId": "07c57b2c-32d1-4025-eee6-5469f5902b2a"
      },
      "execution_count": null,
      "outputs": [
        {
          "output_type": "stream",
          "name": "stdout",
          "text": [
            "a is greater than b\n"
          ]
        }
      ]
    },
    {
      "cell_type": "code",
      "source": [
        "day = 7\n",
        "match day:\n",
        "  case 1:\n",
        "    print(\"Monday\")\n",
        "  case 2:\n",
        "    print(\"Tuesday\")\n",
        "  case 3:\n",
        "    print(\"Wednesday\")\n",
        "  case 4:\n",
        "    print(\"Thursday\")\n",
        "  case 5:\n",
        "    print(\"Friday\")\n",
        "  case 6:\n",
        "    print(\"Saturday\")\n",
        "  case 7:\n",
        "    print(\"Sunday\")"
      ],
      "metadata": {
        "colab": {
          "base_uri": "https://localhost:8080/"
        },
        "id": "zA8MWn8X34yU",
        "outputId": "60f5449c-f6c8-4f4f-bdfe-96d422a666e1"
      },
      "execution_count": null,
      "outputs": [
        {
          "output_type": "stream",
          "name": "stdout",
          "text": [
            "Sunday\n"
          ]
        }
      ]
    },
    {
      "cell_type": "code",
      "source": [
        "i=1\n",
        "while i<6:\n",
        "  print(i)\n",
        "  i+=1"
      ],
      "metadata": {
        "colab": {
          "base_uri": "https://localhost:8080/"
        },
        "id": "eKKyl4Bb8aBG",
        "outputId": "cfe1b56c-023d-4c0c-ebbf-914bf41aca96"
      },
      "execution_count": null,
      "outputs": [
        {
          "output_type": "stream",
          "name": "stdout",
          "text": [
            "1\n",
            "2\n",
            "3\n",
            "4\n",
            "5\n"
          ]
        }
      ]
    },
    {
      "cell_type": "code",
      "source": [
        "rows=5\n",
        "for i in range(0, rows):\n",
        "\n",
        "        for j in range(0, i + 1):\n",
        "            print( \"*\",end=\" \")\n",
        "\n",
        "        print()"
      ],
      "metadata": {
        "colab": {
          "base_uri": "https://localhost:8080/"
        },
        "id": "FigPvrs--4wm",
        "outputId": "841f8655-9edb-43b3-f569-7fa2c191820c"
      },
      "execution_count": null,
      "outputs": [
        {
          "output_type": "stream",
          "name": "stdout",
          "text": [
            "* \n",
            "* * \n",
            "* * * \n",
            "* * * * \n",
            "* * * * * \n"
          ]
        }
      ]
    },
    {
      "cell_type": "code",
      "source": [
        "rows=5\n",
        "for i in range(1, rows+1):\n",
        "\n",
        "        for j in range(1, i + 1):\n",
        "            print( j,end=\" \")\n",
        "\n",
        "        print()"
      ],
      "metadata": {
        "colab": {
          "base_uri": "https://localhost:8080/"
        },
        "id": "9zssZDV9_owK",
        "outputId": "1ab9e3ba-8ca2-4ff2-822b-b7196ba03bdc"
      },
      "execution_count": null,
      "outputs": [
        {
          "output_type": "stream",
          "name": "stdout",
          "text": [
            "1 \n",
            "1 2 \n",
            "1 2 3 \n",
            "1 2 3 4 \n",
            "1 2 3 4 5 \n"
          ]
        }
      ]
    },
    {
      "cell_type": "code",
      "source": [
        "rows = 5\n",
        "for i in range(0, rows + 1):\n",
        "    for j in range(rows - i, 0, -1):\n",
        "        print(j, end=' ')\n",
        "    print()\n"
      ],
      "metadata": {
        "colab": {
          "base_uri": "https://localhost:8080/"
        },
        "id": "5GhftalMAIH2",
        "outputId": "a2172425-6a5d-4919-d76c-64ebb160eb33"
      },
      "execution_count": null,
      "outputs": [
        {
          "output_type": "stream",
          "name": "stdout",
          "text": [
            "5 4 3 2 1 \n",
            "4 3 2 1 \n",
            "3 2 1 \n",
            "2 1 \n",
            "1 \n",
            "\n"
          ]
        }
      ]
    },
    {
      "cell_type": "code",
      "source": [
        "def own_function():\n",
        "  print(\"Hello from a function\")\n",
        "\n",
        "own_function()"
      ],
      "metadata": {
        "colab": {
          "base_uri": "https://localhost:8080/"
        },
        "id": "GfQ1nfweBHu1",
        "outputId": "31ff62a4-1673-4518-c6df-7f3b643cac10"
      },
      "execution_count": null,
      "outputs": [
        {
          "output_type": "stream",
          "name": "stdout",
          "text": [
            "Hello from a function\n"
          ]
        }
      ]
    },
    {
      "cell_type": "code",
      "source": [
        "def own_function(fname):\n",
        "  print(fname + \" goodboy\")\n",
        "\n",
        "own_function(\"susan\")\n",
        "own_function(\"mahato\")\n",
        "own_function(\"kaizen\")"
      ],
      "metadata": {
        "colab": {
          "base_uri": "https://localhost:8080/"
        },
        "id": "IwNg-JS4BQC6",
        "outputId": "c3278e77-d698-4796-a4ad-e3a7ce3a573e"
      },
      "execution_count": null,
      "outputs": [
        {
          "output_type": "stream",
          "name": "stdout",
          "text": [
            "susan goodboy\n",
            "mahato goodboy\n",
            "kaizen goodboy\n"
          ]
        }
      ]
    },
    {
      "cell_type": "code",
      "source": [
        "car = [\"ferrari\",\"mercedes\",\"bmw\",\"mustang\",\"lamborgini\"]\n",
        "x= car[3]\n",
        "print(x)"
      ],
      "metadata": {
        "colab": {
          "base_uri": "https://localhost:8080/"
        },
        "id": "U8Ya0VAUCksr",
        "outputId": "01bea99b-e370-46f7-da92-88450538766e"
      },
      "execution_count": null,
      "outputs": [
        {
          "output_type": "stream",
          "name": "stdout",
          "text": [
            "mustang\n"
          ]
        }
      ]
    },
    {
      "cell_type": "code",
      "source": [
        "!pip install camelcase\n",
        "import camelcase\n",
        "\n",
        "c = camelcase.CamelCase()\n",
        "\n",
        "txt = \"hello world\"\n",
        "\n",
        "print(c.hump(txt))"
      ],
      "metadata": {
        "colab": {
          "base_uri": "https://localhost:8080/"
        },
        "id": "ohbH9KXQNQR3",
        "outputId": "869b6868-9c58-4dfb-db2e-30094757b915"
      },
      "execution_count": null,
      "outputs": [
        {
          "output_type": "stream",
          "name": "stdout",
          "text": [
            "Collecting camelcase\n",
            "  Downloading camelcase-0.2.tar.gz (1.3 kB)\n",
            "  Preparing metadata (setup.py) ... \u001b[?25l\u001b[?25hdone\n",
            "Building wheels for collected packages: camelcase\n",
            "  Building wheel for camelcase (setup.py) ... \u001b[?25l\u001b[?25hdone\n",
            "  Created wheel for camelcase: filename=camelcase-0.2-py3-none-any.whl size=1773 sha256=86e4c6a1b7a6eae52bc72e0f855690d12f4ab8a2107d6bd9aedc33dad1744772\n",
            "  Stored in directory: /root/.cache/pip/wheels/9b/03/38/e96c3419390e51c6f282e9793e392eb2996b4059eb6739165b\n",
            "Successfully built camelcase\n",
            "Installing collected packages: camelcase\n",
            "Successfully installed camelcase-0.2\n",
            "Hello World\n"
          ]
        }
      ]
    },
    {
      "cell_type": "code",
      "source": [
        "try:\n",
        "  print(\"Hello\")\n",
        "except:\n",
        "  print(\"Something went wrong\")\n",
        "else:\n",
        "  print(\"Nothing went wrong\")"
      ],
      "metadata": {
        "colab": {
          "base_uri": "https://localhost:8080/"
        },
        "id": "86hejHzGPPiw",
        "outputId": "7d1e6c5a-2671-4a69-eb8a-718ecfcc826a"
      },
      "execution_count": null,
      "outputs": [
        {
          "output_type": "stream",
          "name": "stdout",
          "text": [
            "Hello\n",
            "Nothing went wrong\n"
          ]
        }
      ]
    },
    {
      "cell_type": "code",
      "source": [
        "try:\n",
        "  print(x)\n",
        "except NameError:\n",
        "  print(\"Variable x is not defined\")\n",
        "except:\n",
        "  print(\"Something else went wrong\")"
      ],
      "metadata": {
        "colab": {
          "base_uri": "https://localhost:8080/"
        },
        "id": "3DC6rNYjPZaN",
        "outputId": "2ec5e8e3-ca33-4ce5-df45-61af33a8f123"
      },
      "execution_count": null,
      "outputs": [
        {
          "output_type": "stream",
          "name": "stdout",
          "text": [
            "Variable x is not defined\n"
          ]
        }
      ]
    }
  ]
}